{
 "cells": [
  {
   "cell_type": "markdown",
   "id": "77aee2b8",
   "metadata": {},
   "source": [
    "# 2.\tCreate the string, int and float variable and delete them all in the next cell"
   ]
  },
  {
   "cell_type": "code",
   "execution_count": 1,
   "id": "cbe95d2a",
   "metadata": {},
   "outputs": [
    {
     "name": "stdout",
     "output_type": "stream",
     "text": [
      "String\n"
     ]
    }
   ],
   "source": [
    "VarString1=\"String\"\n",
    "print(VarString1)"
   ]
  },
  {
   "cell_type": "code",
   "execution_count": 10,
   "id": "5c82d0ef",
   "metadata": {},
   "outputs": [
    {
     "name": "stdout",
     "output_type": "stream",
     "text": [
      "10\n"
     ]
    }
   ],
   "source": [
    "Varnumber=10\n",
    "print(Varnumber)"
   ]
  },
  {
   "cell_type": "code",
   "execution_count": 11,
   "id": "071eb7b5",
   "metadata": {},
   "outputs": [
    {
     "name": "stdout",
     "output_type": "stream",
     "text": [
      "10.5\n"
     ]
    }
   ],
   "source": [
    "VarFloat=10.5\n",
    "print(VarFloat)"
   ]
  },
  {
   "cell_type": "code",
   "execution_count": 12,
   "id": "7b976a8d",
   "metadata": {},
   "outputs": [],
   "source": [
    "del VarString"
   ]
  },
  {
   "cell_type": "code",
   "execution_count": 13,
   "id": "4aa879bd",
   "metadata": {},
   "outputs": [],
   "source": [
    "del Varnumber"
   ]
  },
  {
   "cell_type": "code",
   "execution_count": 14,
   "id": "f6b2c84f",
   "metadata": {},
   "outputs": [],
   "source": [
    "del VarFloat"
   ]
  },
  {
   "cell_type": "code",
   "execution_count": 15,
   "id": "d66791b0",
   "metadata": {},
   "outputs": [
    {
     "ename": "NameError",
     "evalue": "name 'VarString' is not defined",
     "output_type": "error",
     "traceback": [
      "\u001b[1;31m---------------------------------------------------------------------------\u001b[0m",
      "\u001b[1;31mNameError\u001b[0m                                 Traceback (most recent call last)",
      "\u001b[1;32m~\\AppData\\Local\\Temp/ipykernel_7096/443249200.py\u001b[0m in \u001b[0;36m<module>\u001b[1;34m\u001b[0m\n\u001b[1;32m----> 1\u001b[1;33m \u001b[0mprint\u001b[0m\u001b[1;33m(\u001b[0m\u001b[0mVarString\u001b[0m\u001b[1;33m)\u001b[0m\u001b[1;33m\u001b[0m\u001b[1;33m\u001b[0m\u001b[0m\n\u001b[0m",
      "\u001b[1;31mNameError\u001b[0m: name 'VarString' is not defined"
     ]
    }
   ],
   "source": [
    "print(VarString)"
   ]
  },
  {
   "cell_type": "code",
   "execution_count": 16,
   "id": "7f83e3ba",
   "metadata": {},
   "outputs": [
    {
     "ename": "NameError",
     "evalue": "name 'Varnumber' is not defined",
     "output_type": "error",
     "traceback": [
      "\u001b[1;31m---------------------------------------------------------------------------\u001b[0m",
      "\u001b[1;31mNameError\u001b[0m                                 Traceback (most recent call last)",
      "\u001b[1;32m~\\AppData\\Local\\Temp/ipykernel_7096/2188407673.py\u001b[0m in \u001b[0;36m<module>\u001b[1;34m\u001b[0m\n\u001b[1;32m----> 1\u001b[1;33m \u001b[0mprint\u001b[0m\u001b[1;33m(\u001b[0m\u001b[0mVarnumber\u001b[0m\u001b[1;33m)\u001b[0m\u001b[1;33m\u001b[0m\u001b[1;33m\u001b[0m\u001b[0m\n\u001b[0m",
      "\u001b[1;31mNameError\u001b[0m: name 'Varnumber' is not defined"
     ]
    }
   ],
   "source": [
    "print(Varnumber)"
   ]
  },
  {
   "cell_type": "code",
   "execution_count": 17,
   "id": "f0657d78",
   "metadata": {},
   "outputs": [
    {
     "ename": "NameError",
     "evalue": "name 'VarFloat' is not defined",
     "output_type": "error",
     "traceback": [
      "\u001b[1;31m---------------------------------------------------------------------------\u001b[0m",
      "\u001b[1;31mNameError\u001b[0m                                 Traceback (most recent call last)",
      "\u001b[1;32m~\\AppData\\Local\\Temp/ipykernel_7096/2909842529.py\u001b[0m in \u001b[0;36m<module>\u001b[1;34m\u001b[0m\n\u001b[1;32m----> 1\u001b[1;33m \u001b[0mprint\u001b[0m\u001b[1;33m(\u001b[0m\u001b[0mVarFloat\u001b[0m\u001b[1;33m)\u001b[0m\u001b[1;33m\u001b[0m\u001b[1;33m\u001b[0m\u001b[0m\n\u001b[0m",
      "\u001b[1;31mNameError\u001b[0m: name 'VarFloat' is not defined"
     ]
    }
   ],
   "source": [
    "print(VarFloat)"
   ]
  },
  {
   "cell_type": "code",
   "execution_count": 20,
   "id": "b6b66e32",
   "metadata": {},
   "outputs": [
    {
     "name": "stdout",
     "output_type": "stream",
     "text": [
      "5\n"
     ]
    }
   ],
   "source": [
    "keyword =5\n",
    "print(keyword)"
   ]
  },
  {
   "cell_type": "markdown",
   "id": "c169d45f",
   "metadata": {},
   "source": [
    "## 2. Value assigning to Keyword"
   ]
  },
  {
   "cell_type": "code",
   "execution_count": 21,
   "id": "d1589d99",
   "metadata": {},
   "outputs": [
    {
     "ename": "SyntaxError",
     "evalue": "cannot assign to False (Temp/ipykernel_7096/9628644.py, line 1)",
     "output_type": "error",
     "traceback": [
      "\u001b[1;36m  File \u001b[1;32m\"C:\\Users\\Prasana\\AppData\\Local\\Temp/ipykernel_7096/9628644.py\"\u001b[1;36m, line \u001b[1;32m1\u001b[0m\n\u001b[1;33m    False =10\u001b[0m\n\u001b[1;37m    ^\u001b[0m\n\u001b[1;31mSyntaxError\u001b[0m\u001b[1;31m:\u001b[0m cannot assign to False\n"
     ]
    }
   ],
   "source": [
    "False =10\n",
    "print(False)"
   ]
  },
  {
   "cell_type": "markdown",
   "id": "9d255fc8",
   "metadata": {},
   "source": [
    "## Multi Line Statement"
   ]
  },
  {
   "cell_type": "code",
   "execution_count": 22,
   "id": "6a976f2c",
   "metadata": {},
   "outputs": [
    {
     "data": {
      "text/plain": [
       "' We can use triple codes to write multi line statement\\nHere we go \\nMy first python Assignment'"
      ]
     },
     "execution_count": 22,
     "metadata": {},
     "output_type": "execute_result"
    }
   ],
   "source": [
    "\"\"\" We can use triple codes to write multi line statement\n",
    "Here we go \n",
    "My first python Assignment\"\"\""
   ]
  },
  {
   "cell_type": "markdown",
   "id": "4779ab81",
   "metadata": {},
   "source": [
    "## 5.Print list of numbers"
   ]
  },
  {
   "cell_type": "code",
   "execution_count": 23,
   "id": "8087afb7",
   "metadata": {},
   "outputs": [
    {
     "data": {
      "text/plain": [
       "[100,\n",
       " 108,\n",
       " 116,\n",
       " 124,\n",
       " 132,\n",
       " 140,\n",
       " 148,\n",
       " 156,\n",
       " 164,\n",
       " 172,\n",
       " 180,\n",
       " 188,\n",
       " 196,\n",
       " 204,\n",
       " 212,\n",
       " 220,\n",
       " 228,\n",
       " 236,\n",
       " 244,\n",
       " 252,\n",
       " 260,\n",
       " 268,\n",
       " 276,\n",
       " 284,\n",
       " 292,\n",
       " 300,\n",
       " 308,\n",
       " 316,\n",
       " 324,\n",
       " 332,\n",
       " 340,\n",
       " 348,\n",
       " 356,\n",
       " 364,\n",
       " 372,\n",
       " 380,\n",
       " 388,\n",
       " 396,\n",
       " 404,\n",
       " 412,\n",
       " 420,\n",
       " 428,\n",
       " 436,\n",
       " 444,\n",
       " 452,\n",
       " 460,\n",
       " 468,\n",
       " 476,\n",
       " 484,\n",
       " 492,\n",
       " 500,\n",
       " 508,\n",
       " 516,\n",
       " 524,\n",
       " 532,\n",
       " 540,\n",
       " 548,\n",
       " 556,\n",
       " 564,\n",
       " 572,\n",
       " 580,\n",
       " 588,\n",
       " 596,\n",
       " 604,\n",
       " 612,\n",
       " 620,\n",
       " 628,\n",
       " 636,\n",
       " 644,\n",
       " 652,\n",
       " 660,\n",
       " 668,\n",
       " 676,\n",
       " 684,\n",
       " 692,\n",
       " 700,\n",
       " 708,\n",
       " 716,\n",
       " 724,\n",
       " 732,\n",
       " 740,\n",
       " 748,\n",
       " 756,\n",
       " 764,\n",
       " 772,\n",
       " 780,\n",
       " 788,\n",
       " 796,\n",
       " 804,\n",
       " 812,\n",
       " 820,\n",
       " 828,\n",
       " 836,\n",
       " 844,\n",
       " 852,\n",
       " 860,\n",
       " 868,\n",
       " 876,\n",
       " 884,\n",
       " 892,\n",
       " 900,\n",
       " 908,\n",
       " 916,\n",
       " 924,\n",
       " 932,\n",
       " 940,\n",
       " 948,\n",
       " 956,\n",
       " 964,\n",
       " 972,\n",
       " 980,\n",
       " 988,\n",
       " 996]"
      ]
     },
     "execution_count": 23,
     "metadata": {},
     "output_type": "execute_result"
    }
   ],
   "source": [
    "list(range(100,999,8))"
   ]
  },
  {
   "cell_type": "markdown",
   "id": "20fbe6b9",
   "metadata": {},
   "source": [
    "## 6. For Loop to print n values"
   ]
  },
  {
   "cell_type": "code",
   "execution_count": 32,
   "id": "8c36a6ed",
   "metadata": {},
   "outputs": [
    {
     "name": "stdout",
     "output_type": "stream",
     "text": [
      "3\n",
      "in if loop ehich is not divible by 2\n"
     ]
    }
   ],
   "source": [
    "for n in range (3,10):\n",
    "    if(n%2==0):\n",
    "        print(\"in if loop ehich is not divible by 2\")\n",
    "        break\n",
    "    else:\n",
    "        print(n)"
   ]
  },
  {
   "cell_type": "code",
   "execution_count": 4,
   "id": "ff132664",
   "metadata": {},
   "outputs": [
    {
     "name": "stdout",
     "output_type": "stream",
     "text": [
      "Enter start value8\n",
      "Enter end value20\n",
      "8 divisible so break used\n"
     ]
    }
   ],
   "source": [
    "startrange=int(input(\"Enter start value\"))\n",
    "endrange=int(input(\"Enter end value\"))\n",
    "for n in range(startrange,endrange+1):\n",
    "    if(n%2==0):\n",
    "        print(n,\"divisible so break used\")\n",
    "        break;\n",
    "    else:\n",
    "        print(n,\"Not divisible In else part\")"
   ]
  },
  {
   "cell_type": "markdown",
   "id": "0fe6a137",
   "metadata": {},
   "source": [
    "# 7.\tWrite a simple function and call the docstring from outside the function"
   ]
  },
  {
   "cell_type": "code",
   "execution_count": 9,
   "id": "4ebb44a1",
   "metadata": {},
   "outputs": [],
   "source": [
    "def simpledocfunct():\n",
    "    \"\"\"Doc Function Call\"\"\"\n",
    "    print(\"Its a simple doc function\")\n"
   ]
  },
  {
   "cell_type": "code",
   "execution_count": 10,
   "id": "25ac2176",
   "metadata": {},
   "outputs": [
    {
     "name": "stdout",
     "output_type": "stream",
     "text": [
      "Its a simple doc function\n"
     ]
    }
   ],
   "source": [
    "simpledocfunct()"
   ]
  },
  {
   "cell_type": "code",
   "execution_count": 11,
   "id": "f97eb271",
   "metadata": {},
   "outputs": [
    {
     "name": "stdout",
     "output_type": "stream",
     "text": [
      "Doc Function Call\n"
     ]
    }
   ],
   "source": [
    "print(simpledocfunct.__doc__)"
   ]
  },
  {
   "cell_type": "markdown",
   "id": "fae6c8e2",
   "metadata": {},
   "source": [
    "# 9.\tWrite a list comprehension to print the odd numbers from 0 to 100"
   ]
  },
  {
   "cell_type": "code",
   "execution_count": 13,
   "id": "180497e4",
   "metadata": {},
   "outputs": [
    {
     "name": "stdout",
     "output_type": "stream",
     "text": [
      "Enter the start value0\n",
      "Enter the end value100\n",
      "[1, 3, 5, 7, 9, 11, 13, 15, 17, 19, 21, 23, 25, 27, 29, 31, 33, 35, 37, 39, 41, 43, 45, 47, 49, 51, 53, 55, 57, 59, 61, 63, 65, 67, 69, 71, 73, 75, 77, 79, 81, 83, 85, 87, 89, 91, 93, 95, 97, 99]\n"
     ]
    }
   ],
   "source": [
    "start_val=int(input(\"Enter the start value\"))\n",
    "end_val=int(input(\"Enter the end value\"))\n",
    "odd_list=[]\n",
    "for i in range(start_val,end_val):\n",
    "    if i%2!=0:\n",
    "        odd_list.append(i)\n",
    "        continue\n",
    "    else:\n",
    "        continue\n",
    "    \n",
    "print(odd_list)\n",
    "      \n",
    "    \n",
    "        "
   ]
  },
  {
   "cell_type": "markdown",
   "id": "e6c1ec81",
   "metadata": {},
   "source": [
    "# list comprehension to print your name excluding vowels (a, e, i, o, u)"
   ]
  },
  {
   "cell_type": "code",
   "execution_count": 20,
   "id": "205b320f",
   "metadata": {},
   "outputs": [
    {
     "name": "stdout",
     "output_type": "stream",
     "text": [
      "[]\n"
     ]
    }
   ],
   "source": [
    "myname=[\"Gowthami\"]\n",
    "for i in myname:\n",
    "    if 'a' in i:\n",
    "        myname.remove(i)\n",
    "\n",
    "print(myname)"
   ]
  },
  {
   "cell_type": "code",
   "execution_count": 15,
   "id": "c16877be",
   "metadata": {},
   "outputs": [
    {
     "name": "stdout",
     "output_type": "stream",
     "text": [
      "['Gowthami']\n"
     ]
    }
   ],
   "source": [
    "print(myname)"
   ]
  },
  {
   "cell_type": "code",
   "execution_count": 21,
   "id": "084694b2",
   "metadata": {},
   "outputs": [],
   "source": []
  },
  {
   "cell_type": "code",
   "execution_count": 31,
   "id": "ab5148ca",
   "metadata": {},
   "outputs": [],
   "source": [
    "import re\n",
    "without_vow=[]\n",
    "def remove_vowels(string):\n",
    "    without_vow= (re.sub(\"[aeiouAEIOU]\",\"\",string)) \n",
    "    print(without_vow)"
   ]
  },
  {
   "cell_type": "code",
   "execution_count": 32,
   "id": "2ec73212",
   "metadata": {},
   "outputs": [
    {
     "ename": "TypeError",
     "evalue": "expected string or bytes-like object",
     "output_type": "error",
     "traceback": [
      "\u001b[1;31m---------------------------------------------------------------------------\u001b[0m",
      "\u001b[1;31mTypeError\u001b[0m                                 Traceback (most recent call last)",
      "\u001b[1;32m~\\AppData\\Local\\Temp/ipykernel_5480/92489343.py\u001b[0m in \u001b[0;36m<module>\u001b[1;34m\u001b[0m\n\u001b[1;32m----> 1\u001b[1;33m \u001b[0mremove_vowel\u001b[0m\u001b[1;33m(\u001b[0m\u001b[0mmyname\u001b[0m\u001b[1;33m)\u001b[0m\u001b[1;33m\u001b[0m\u001b[1;33m\u001b[0m\u001b[0m\n\u001b[0m",
      "\u001b[1;32m~\\AppData\\Local\\Temp/ipykernel_5480/2438846070.py\u001b[0m in \u001b[0;36mremove_vowel\u001b[1;34m(string)\u001b[0m\n\u001b[0;32m      2\u001b[0m \u001b[0mwithout_vow\u001b[0m\u001b[1;33m=\u001b[0m\u001b[1;33m[\u001b[0m\u001b[1;33m]\u001b[0m\u001b[1;33m\u001b[0m\u001b[1;33m\u001b[0m\u001b[0m\n\u001b[0;32m      3\u001b[0m \u001b[1;32mdef\u001b[0m \u001b[0mremove_vowel\u001b[0m\u001b[1;33m(\u001b[0m\u001b[0mstring\u001b[0m\u001b[1;33m)\u001b[0m\u001b[1;33m:\u001b[0m\u001b[1;33m\u001b[0m\u001b[1;33m\u001b[0m\u001b[0m\n\u001b[1;32m----> 4\u001b[1;33m     \u001b[0mwithout_vow\u001b[0m\u001b[1;33m=\u001b[0m \u001b[1;33m(\u001b[0m\u001b[0mre\u001b[0m\u001b[1;33m.\u001b[0m\u001b[0msub\u001b[0m\u001b[1;33m(\u001b[0m\u001b[1;34m\"[aeiouAEIOU]\"\u001b[0m\u001b[1;33m,\u001b[0m\u001b[1;34m\"\"\u001b[0m\u001b[1;33m,\u001b[0m\u001b[0mstring\u001b[0m\u001b[1;33m)\u001b[0m\u001b[1;33m)\u001b[0m\u001b[1;33m\u001b[0m\u001b[1;33m\u001b[0m\u001b[0m\n\u001b[0m\u001b[0;32m      5\u001b[0m \u001b[0mprint\u001b[0m\u001b[1;33m(\u001b[0m\u001b[0mwithout_vow\u001b[0m\u001b[1;33m)\u001b[0m\u001b[1;33m\u001b[0m\u001b[1;33m\u001b[0m\u001b[0m\n",
      "\u001b[1;32m~\\anaconda3\\lib\\re.py\u001b[0m in \u001b[0;36msub\u001b[1;34m(pattern, repl, string, count, flags)\u001b[0m\n\u001b[0;32m    208\u001b[0m     \u001b[0ma\u001b[0m \u001b[0mcallable\u001b[0m\u001b[1;33m,\u001b[0m \u001b[0mit\u001b[0m\u001b[0;31m'\u001b[0m\u001b[0ms\u001b[0m \u001b[0mpassed\u001b[0m \u001b[0mthe\u001b[0m \u001b[0mMatch\u001b[0m \u001b[0mobject\u001b[0m \u001b[1;32mand\u001b[0m \u001b[0mmust\u001b[0m \u001b[1;32mreturn\u001b[0m\u001b[1;33m\u001b[0m\u001b[1;33m\u001b[0m\u001b[0m\n\u001b[0;32m    209\u001b[0m     a replacement string to be used.\"\"\"\n\u001b[1;32m--> 210\u001b[1;33m     \u001b[1;32mreturn\u001b[0m \u001b[0m_compile\u001b[0m\u001b[1;33m(\u001b[0m\u001b[0mpattern\u001b[0m\u001b[1;33m,\u001b[0m \u001b[0mflags\u001b[0m\u001b[1;33m)\u001b[0m\u001b[1;33m.\u001b[0m\u001b[0msub\u001b[0m\u001b[1;33m(\u001b[0m\u001b[0mrepl\u001b[0m\u001b[1;33m,\u001b[0m \u001b[0mstring\u001b[0m\u001b[1;33m,\u001b[0m \u001b[0mcount\u001b[0m\u001b[1;33m)\u001b[0m\u001b[1;33m\u001b[0m\u001b[1;33m\u001b[0m\u001b[0m\n\u001b[0m\u001b[0;32m    211\u001b[0m \u001b[1;33m\u001b[0m\u001b[0m\n\u001b[0;32m    212\u001b[0m \u001b[1;32mdef\u001b[0m \u001b[0msubn\u001b[0m\u001b[1;33m(\u001b[0m\u001b[0mpattern\u001b[0m\u001b[1;33m,\u001b[0m \u001b[0mrepl\u001b[0m\u001b[1;33m,\u001b[0m \u001b[0mstring\u001b[0m\u001b[1;33m,\u001b[0m \u001b[0mcount\u001b[0m\u001b[1;33m=\u001b[0m\u001b[1;36m0\u001b[0m\u001b[1;33m,\u001b[0m \u001b[0mflags\u001b[0m\u001b[1;33m=\u001b[0m\u001b[1;36m0\u001b[0m\u001b[1;33m)\u001b[0m\u001b[1;33m:\u001b[0m\u001b[1;33m\u001b[0m\u001b[1;33m\u001b[0m\u001b[0m\n",
      "\u001b[1;31mTypeError\u001b[0m: expected string or bytes-like object"
     ]
    }
   ],
   "source": [
    "remove_vowel(myname)"
   ]
  },
  {
   "cell_type": "code",
   "execution_count": 35,
   "id": "aec03714",
   "metadata": {},
   "outputs": [],
   "source": [
    "def remo_vowel(nstring):\n",
    "    vowel='aeiou'\n",
    "    print(''.join([x for x in nstring if x not in vowel]))"
   ]
  },
  {
   "cell_type": "code",
   "execution_count": 36,
   "id": "aa8a8247",
   "metadata": {},
   "outputs": [
    {
     "name": "stdout",
     "output_type": "stream",
     "text": [
      "Enter somethingGowthami\n",
      "Gwthm\n"
     ]
    }
   ],
   "source": [
    "strng=input(\"Enter something\")\n",
    "remo_vowel(strng)"
   ]
  },
  {
   "cell_type": "code",
   "execution_count": null,
   "id": "bf85455f",
   "metadata": {},
   "outputs": [],
   "source": []
  }
 ],
 "metadata": {
  "kernelspec": {
   "display_name": "Python 3 (ipykernel)",
   "language": "python",
   "name": "python3"
  },
  "language_info": {
   "codemirror_mode": {
    "name": "ipython",
    "version": 3
   },
   "file_extension": ".py",
   "mimetype": "text/x-python",
   "name": "python",
   "nbconvert_exporter": "python",
   "pygments_lexer": "ipython3",
   "version": "3.9.7"
  }
 },
 "nbformat": 4,
 "nbformat_minor": 5
}
