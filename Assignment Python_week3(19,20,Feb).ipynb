{
 "cells": [
  {
   "cell_type": "markdown",
   "id": "dd75deae",
   "metadata": {},
   "source": [
    "## 2.FIBONACCI SERIES"
   ]
  },
  {
   "cell_type": "code",
   "execution_count": 1,
   "id": "8da29144",
   "metadata": {},
   "outputs": [
    {
     "name": "stdout",
     "output_type": "stream",
     "text": [
      "Enter the value for Fib Series : 5\n",
      "0\n",
      "1\n",
      "1\n",
      "2\n",
      "3\n"
     ]
    }
   ],
   "source": [
    "#Function for Fib using yield \n",
    "def fib(num):\n",
    "    \n",
    "    a=0\n",
    "    b=1\n",
    "    for i in range(num):\n",
    "        \n",
    "        yield a\n",
    "        a,b=b,a+b\n",
    "    \n",
    "#To pass value from user and to check the valid input\n",
    "n=int(input(\"Enter the value for Fib Series : \"))\n",
    "\n",
    "if(n<=0):\n",
    "    print(\"INvalid INPUT!!Enter value greater than 1\")\n",
    "\n",
    "else:\n",
    "    for i in fib(n):\n",
    "        print(i)\n"
   ]
  },
  {
   "cell_type": "markdown",
   "id": "93bba1e4",
   "metadata": {},
   "source": [
    "## 3.\tWrite an iterator class to iterate over a sequence of values in the reverse direction\n"
   ]
  },
  {
   "cell_type": "code",
   "execution_count": 2,
   "id": "6a180f06",
   "metadata": {},
   "outputs": [
    {
     "name": "stdout",
     "output_type": "stream",
     "text": [
      "List before reversal: [5, 4, 3, 2, 1]\n",
      "List After reversal: [1, 2, 3, 4, 5]\n",
      "1\n",
      "2\n",
      "3\n",
      "4\n",
      "5\n"
     ]
    }
   ],
   "source": [
    "#reversing a list \n",
    "list1=[5,4,3,2,1]\n",
    "print(\"List before reversal:\",list1)\n",
    "list1.reverse()\n",
    "print(\"List After reversal:\",list1)\n",
    "\n",
    "#using itr printing the list\n",
    "myit=iter(list1)\n",
    "for i in range(len(list1)):\n",
    "    print(next(myit))\n"
   ]
  },
  {
   "cell_type": "code",
   "execution_count": 3,
   "id": "77faa0a7",
   "metadata": {},
   "outputs": [],
   "source": [
    "#using class \n",
    "\n",
    "class myitrrevs:\n",
    "    def __init__(self,data):\n",
    "        self.data=data\n",
    "        self.index=len(data)\n",
    "    def __iter__(self):\n",
    "        return self\n",
    "    def __next__(self):\n",
    "        if self.index==0:\n",
    "            raise StopIteration       \n",
    "        self.index=self.index-1\n",
    "        return self.data[self.index]\n"
   ]
  },
  {
   "cell_type": "code",
   "execution_count": 4,
   "id": "b92dfb4a",
   "metadata": {},
   "outputs": [
    {
     "name": "stdout",
     "output_type": "stream",
     "text": [
      "i\n",
      "m\n",
      "a\n",
      "h\n",
      "t\n",
      "w\n",
      "o\n",
      "G\n"
     ]
    }
   ],
   "source": [
    "#calling itr class\n",
    "rev=myitrrevs('Gowthami')\n",
    "for char in rev:\n",
    "    print(char)"
   ]
  },
  {
   "cell_type": "markdown",
   "id": "7f517cdc",
   "metadata": {},
   "source": [
    "## 4.\tWrite a function “salary” that takes in base pay, HRA and special allowance as arguments and returns the sum of all the 3 salary elements"
   ]
  },
  {
   "cell_type": "code",
   "execution_count": 14,
   "id": "e2188ce8",
   "metadata": {},
   "outputs": [],
   "source": [
    "def dec_tax(fun,tax=30):\n",
    "    def salary_cal(basepay,HRA,Splallowance):\n",
    "        sum_of_sal=basepay+HRA+Splallowance\n",
    "        total_sal=sum_of_sal-(sum_of_sal*(tax/100))\n",
    "        print(f\"Net salary:{total_sal}\")\n",
    "        return fun(basepay,HRA,Splallowance)\n",
    "    return salary_cal"
   ]
  },
  {
   "cell_type": "code",
   "execution_count": 15,
   "id": "2a685aa7",
   "metadata": {},
   "outputs": [],
   "source": [
    "@dec_tax\n",
    "def salary_c(basepay,HRA,Splallowance):\n",
    "        return(basepay+HRA+Splallowance)"
   ]
  },
  {
   "cell_type": "code",
   "execution_count": 16,
   "id": "90af59a1",
   "metadata": {},
   "outputs": [
    {
     "name": "stdout",
     "output_type": "stream",
     "text": [
      "Net salary:24500.0\n"
     ]
    },
    {
     "data": {
      "text/plain": [
       "35000"
      ]
     },
     "execution_count": 16,
     "metadata": {},
     "output_type": "execute_result"
    }
   ],
   "source": [
    "salary_c(20000,10000,5000)"
   ]
  },
  {
   "cell_type": "markdown",
   "id": "6e30d443",
   "metadata": {},
   "source": [
    "## 3 examples on possible methods to changing a tuple"
   ]
  },
  {
   "cell_type": "code",
   "execution_count": 21,
   "id": "ba1098d3",
   "metadata": {},
   "outputs": [
    {
     "name": "stdout",
     "output_type": "stream",
     "text": [
      "Tuple before changes: (1, 2, 3, 4, [9, 10])\n",
      "Tuple after changes (1, 2, 3, 4, [33, 10])\n"
     ]
    }
   ],
   "source": [
    "# method 1\n",
    "\n",
    "mytuple1=(1,2,3,4,[9,10])\n",
    "print(\"Tuple before changes:\",mytuple1)\n",
    "\n",
    "mytuple1[4][0]=33\n",
    "print(\"Tuple after changes\",mytuple1)"
   ]
  },
  {
   "cell_type": "code",
   "execution_count": 27,
   "id": "fb460081",
   "metadata": {},
   "outputs": [
    {
     "data": {
      "text/plain": [
       "[(0, 'Its'), (1, 'Python'), (2, 'Assignment')]"
      ]
     },
     "execution_count": 27,
     "metadata": {},
     "output_type": "execute_result"
    }
   ],
   "source": [
    "#method 2 \n",
    "mytuple2=['Its','Python','Assignment']\n",
    "list(enumerate(mytuple2))"
   ]
  },
  {
   "cell_type": "code",
   "execution_count": 29,
   "id": "386824cf",
   "metadata": {},
   "outputs": [
    {
     "name": "stdout",
     "output_type": "stream",
     "text": [
      "(1, 2, 3, 0)\n"
     ]
    }
   ],
   "source": [
    "#method 3 \n",
    "\n",
    "mytuple3=(1,2,3,'digits')\n",
    "a,b,c,d=mytuple3\n",
    "d=0\n",
    "mytuple3=a,b,c,d\n",
    "print(mytuple3)"
   ]
  },
  {
   "cell_type": "code",
   "execution_count": null,
   "id": "a03ca6f8",
   "metadata": {},
   "outputs": [],
   "source": []
  }
 ],
 "metadata": {
  "kernelspec": {
   "display_name": "Python 3 (ipykernel)",
   "language": "python",
   "name": "python3"
  },
  "language_info": {
   "codemirror_mode": {
    "name": "ipython",
    "version": 3
   },
   "file_extension": ".py",
   "mimetype": "text/x-python",
   "name": "python",
   "nbconvert_exporter": "python",
   "pygments_lexer": "ipython3",
   "version": "3.9.7"
  }
 },
 "nbformat": 4,
 "nbformat_minor": 5
}
