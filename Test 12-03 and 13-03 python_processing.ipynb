{
 "cells": [
  {
   "cell_type": "markdown",
   "id": "7341a442",
   "metadata": {},
   "source": [
    "## 1.\tCreate a program that asks the user to enter their name and their age. Print out a message that tells them the year that they will turn 100 years old"
   ]
  },
  {
   "cell_type": "code",
   "execution_count": 3,
   "id": "b2a741a7",
   "metadata": {},
   "outputs": [
    {
     "name": "stdout",
     "output_type": "stream",
     "text": [
      "Enter your name: gowthami\n",
      "Enter your current age: 25\n",
      "at your 100 , year is : 2095\n"
     ]
    }
   ],
   "source": [
    "name=input(\"Enter your name: \")\n",
    "age=int(input(\"Enter your current age: \"))\n",
    "hunderth_year=2020+(100-age)\n",
    "print(\"at your 100 , year is :\",hunderth_year)"
   ]
  },
  {
   "cell_type": "markdown",
   "id": "b46391a0",
   "metadata": {},
   "source": [
    "## 2.\tWhat is pandas groupby? Demonstrate with your own example"
   ]
  },
  {
   "cell_type": "code",
   "execution_count": null,
   "id": "a6d6a303",
   "metadata": {},
   "outputs": [],
   "source": [
    "Pandas groupby will split the data into seperate groups and perform computation for better analysis "
   ]
  },
  {
   "cell_type": "code",
   "execution_count": 2,
   "id": "829c94ea",
   "metadata": {},
   "outputs": [],
   "source": [
    "import pandas as pd\n",
    "import numpy as np"
   ]
  },
  {
   "cell_type": "code",
   "execution_count": 8,
   "id": "e8f688c2",
   "metadata": {},
   "outputs": [
    {
     "data": {
      "text/html": [
       "<div>\n",
       "<style scoped>\n",
       "    .dataframe tbody tr th:only-of-type {\n",
       "        vertical-align: middle;\n",
       "    }\n",
       "\n",
       "    .dataframe tbody tr th {\n",
       "        vertical-align: top;\n",
       "    }\n",
       "\n",
       "    .dataframe thead th {\n",
       "        text-align: right;\n",
       "    }\n",
       "</style>\n",
       "<table border=\"1\" class=\"dataframe\">\n",
       "  <thead>\n",
       "    <tr style=\"text-align: right;\">\n",
       "      <th></th>\n",
       "      <th>Age</th>\n",
       "      <th>Cricketplayer</th>\n",
       "      <th>Hockeyplayer</th>\n",
       "      <th>Athlete</th>\n",
       "    </tr>\n",
       "  </thead>\n",
       "  <tbody>\n",
       "    <tr>\n",
       "      <th>0</th>\n",
       "      <td>16</td>\n",
       "      <td>20</td>\n",
       "      <td>10</td>\n",
       "      <td>11</td>\n",
       "    </tr>\n",
       "    <tr>\n",
       "      <th>1</th>\n",
       "      <td>17</td>\n",
       "      <td>22</td>\n",
       "      <td>12</td>\n",
       "      <td>12</td>\n",
       "    </tr>\n",
       "    <tr>\n",
       "      <th>2</th>\n",
       "      <td>18</td>\n",
       "      <td>23</td>\n",
       "      <td>14</td>\n",
       "      <td>13</td>\n",
       "    </tr>\n",
       "    <tr>\n",
       "      <th>3</th>\n",
       "      <td>19</td>\n",
       "      <td>21</td>\n",
       "      <td>13</td>\n",
       "      <td>19</td>\n",
       "    </tr>\n",
       "    <tr>\n",
       "      <th>4</th>\n",
       "      <td>16</td>\n",
       "      <td>25</td>\n",
       "      <td>16</td>\n",
       "      <td>18</td>\n",
       "    </tr>\n",
       "    <tr>\n",
       "      <th>5</th>\n",
       "      <td>18</td>\n",
       "      <td>28</td>\n",
       "      <td>17</td>\n",
       "      <td>20</td>\n",
       "    </tr>\n",
       "    <tr>\n",
       "      <th>6</th>\n",
       "      <td>20</td>\n",
       "      <td>32</td>\n",
       "      <td>15</td>\n",
       "      <td>23</td>\n",
       "    </tr>\n",
       "    <tr>\n",
       "      <th>7</th>\n",
       "      <td>21</td>\n",
       "      <td>34</td>\n",
       "      <td>16</td>\n",
       "      <td>22</td>\n",
       "    </tr>\n",
       "  </tbody>\n",
       "</table>\n",
       "</div>"
      ],
      "text/plain": [
       "   Age  Cricketplayer  Hockeyplayer  Athlete\n",
       "0   16             20            10       11\n",
       "1   17             22            12       12\n",
       "2   18             23            14       13\n",
       "3   19             21            13       19\n",
       "4   16             25            16       18\n",
       "5   18             28            17       20\n",
       "6   20             32            15       23\n",
       "7   21             34            16       22"
      ]
     },
     "execution_count": 8,
     "metadata": {},
     "output_type": "execute_result"
    }
   ],
   "source": [
    "#creating dataframe with columns\n",
    "dict1={'Age':[16,17,18,19,16,18,20,21],'Cricketplayer':[20,22,23,21,25,28,32,34],'Hockeyplayer':[10,12,14,13,16,17,15,16],'Athlete':[11,12,13,19,18,20,23,22]}\n",
    "df=pd.DataFrame(dict1)\n",
    "df"
   ]
  },
  {
   "cell_type": "code",
   "execution_count": 9,
   "id": "d2e2a896",
   "metadata": {},
   "outputs": [
    {
     "data": {
      "text/plain": [
       "Age\n",
       "16    29\n",
       "17    12\n",
       "18    33\n",
       "19    19\n",
       "20    23\n",
       "21    22\n",
       "Name: Athlete, dtype: int64"
      ]
     },
     "execution_count": 9,
     "metadata": {},
     "output_type": "execute_result"
    }
   ],
   "source": [
    "df.groupby(['Age'])['Athlete'].sum()"
   ]
  },
  {
   "cell_type": "markdown",
   "id": "3beb0a7d",
   "metadata": {},
   "source": [
    "## 3.\tHow to create a dataframe from list?"
   ]
  },
  {
   "cell_type": "code",
   "execution_count": 10,
   "id": "0bfd93b6",
   "metadata": {},
   "outputs": [
    {
     "data": {
      "text/html": [
       "<div>\n",
       "<style scoped>\n",
       "    .dataframe tbody tr th:only-of-type {\n",
       "        vertical-align: middle;\n",
       "    }\n",
       "\n",
       "    .dataframe tbody tr th {\n",
       "        vertical-align: top;\n",
       "    }\n",
       "\n",
       "    .dataframe thead th {\n",
       "        text-align: right;\n",
       "    }\n",
       "</style>\n",
       "<table border=\"1\" class=\"dataframe\">\n",
       "  <thead>\n",
       "    <tr style=\"text-align: right;\">\n",
       "      <th></th>\n",
       "      <th>CompanyName</th>\n",
       "      <th>Enginetype</th>\n",
       "      <th>Color</th>\n",
       "      <th>NoofSeater</th>\n",
       "    </tr>\n",
       "  </thead>\n",
       "  <tbody>\n",
       "    <tr>\n",
       "      <th>0</th>\n",
       "      <td>BMW</td>\n",
       "      <td>Petrol</td>\n",
       "      <td>Blue</td>\n",
       "      <td>2</td>\n",
       "    </tr>\n",
       "    <tr>\n",
       "      <th>1</th>\n",
       "      <td>Audi</td>\n",
       "      <td>Petrol</td>\n",
       "      <td>Black</td>\n",
       "      <td>5</td>\n",
       "    </tr>\n",
       "    <tr>\n",
       "      <th>2</th>\n",
       "      <td>Benz</td>\n",
       "      <td>Diesel</td>\n",
       "      <td>Red</td>\n",
       "      <td>5</td>\n",
       "    </tr>\n",
       "    <tr>\n",
       "      <th>3</th>\n",
       "      <td>Tata</td>\n",
       "      <td>gas</td>\n",
       "      <td>White</td>\n",
       "      <td>8</td>\n",
       "    </tr>\n",
       "    <tr>\n",
       "      <th>4</th>\n",
       "      <td>Maruthi</td>\n",
       "      <td>Petrol</td>\n",
       "      <td>Grey</td>\n",
       "      <td>5</td>\n",
       "    </tr>\n",
       "    <tr>\n",
       "      <th>5</th>\n",
       "      <td>Ford</td>\n",
       "      <td>gas</td>\n",
       "      <td>DarkBlue</td>\n",
       "      <td>8</td>\n",
       "    </tr>\n",
       "    <tr>\n",
       "      <th>6</th>\n",
       "      <td>Hyundai</td>\n",
       "      <td>Diesel</td>\n",
       "      <td>White</td>\n",
       "      <td>5</td>\n",
       "    </tr>\n",
       "    <tr>\n",
       "      <th>7</th>\n",
       "      <td>Skoda</td>\n",
       "      <td>Petrol</td>\n",
       "      <td>Black</td>\n",
       "      <td>5</td>\n",
       "    </tr>\n",
       "  </tbody>\n",
       "</table>\n",
       "</div>"
      ],
      "text/plain": [
       "  CompanyName Enginetype     Color NoofSeater\n",
       "0         BMW     Petrol      Blue          2\n",
       "1        Audi     Petrol     Black          5\n",
       "2        Benz     Diesel       Red          5\n",
       "3        Tata        gas     White          8\n",
       "4     Maruthi     Petrol      Grey          5\n",
       "5        Ford        gas  DarkBlue          8\n",
       "6     Hyundai     Diesel     White          5\n",
       "7       Skoda     Petrol     Black          5"
      ]
     },
     "execution_count": 10,
     "metadata": {},
     "output_type": "execute_result"
    }
   ],
   "source": [
    "#creating df using list with columns \n",
    "l2=[['BMW','Petrol','Blue','2'],['Audi','Petrol','Black','5'],['Benz','Diesel','Red','5'],['Tata','gas','White','8'],['Maruthi','Petrol','Grey','5'],['Ford','gas','DarkBlue','8'],['Hyundai','Diesel','White','5'],['Skoda','Petrol','Black','5']]\n",
    "df=pd.DataFrame(l2,columns=['CompanyName','Enginetype','Color','NoofSeater'])\n",
    "df"
   ]
  },
  {
   "cell_type": "markdown",
   "id": "2976a32e",
   "metadata": {},
   "source": [
    "## 4.\tWhat are the ways to combine the dataframe in pandas. Give an example for each"
   ]
  },
  {
   "cell_type": "code",
   "execution_count": null,
   "id": "1c1c855f",
   "metadata": {},
   "outputs": [],
   "source": [
    "Pandas provide Merge,Join and concat for easily combine dataframe with other sets.\n"
   ]
  },
  {
   "cell_type": "code",
   "execution_count": 13,
   "id": "b4298f12",
   "metadata": {},
   "outputs": [],
   "source": [
    "#1. Merge Example\n",
    "#creating 2 dataframe to  merge \n",
    "\n",
    "dataf1=pd.DataFrame({'CompanyName':['Tcs','Infosys','Oracle','L&T'],\n",
    "                     'NoofBranch':[120,110,55,45],\n",
    "                     'Companyid':[220,230,255,222],\n",
    "                    'HeadQuater':['USA','Newjersy','UK','India']})\n",
    "\n",
    "dataf2=pd.DataFrame({'CompanyName':['Tm','capgemini','Ett','Mindtree'],\n",
    "                    'NoofBranch':[120,110,55,45],\n",
    "                      'Companyid':[221,231,256,289],\n",
    "                    'HeadQuater':['USA','Newjersy','UK','India']})\n",
    "    \n",
    "\n"
   ]
  },
  {
   "cell_type": "code",
   "execution_count": 14,
   "id": "1ebfb429",
   "metadata": {},
   "outputs": [
    {
     "data": {
      "text/html": [
       "<div>\n",
       "<style scoped>\n",
       "    .dataframe tbody tr th:only-of-type {\n",
       "        vertical-align: middle;\n",
       "    }\n",
       "\n",
       "    .dataframe tbody tr th {\n",
       "        vertical-align: top;\n",
       "    }\n",
       "\n",
       "    .dataframe thead th {\n",
       "        text-align: right;\n",
       "    }\n",
       "</style>\n",
       "<table border=\"1\" class=\"dataframe\">\n",
       "  <thead>\n",
       "    <tr style=\"text-align: right;\">\n",
       "      <th></th>\n",
       "      <th>CompanyName</th>\n",
       "      <th>NoofBranch</th>\n",
       "      <th>Companyid</th>\n",
       "      <th>HeadQuater</th>\n",
       "    </tr>\n",
       "  </thead>\n",
       "  <tbody>\n",
       "    <tr>\n",
       "      <th>0</th>\n",
       "      <td>Tcs</td>\n",
       "      <td>120</td>\n",
       "      <td>220</td>\n",
       "      <td>USA</td>\n",
       "    </tr>\n",
       "    <tr>\n",
       "      <th>1</th>\n",
       "      <td>Infosys</td>\n",
       "      <td>110</td>\n",
       "      <td>230</td>\n",
       "      <td>Newjersy</td>\n",
       "    </tr>\n",
       "    <tr>\n",
       "      <th>2</th>\n",
       "      <td>Oracle</td>\n",
       "      <td>55</td>\n",
       "      <td>255</td>\n",
       "      <td>UK</td>\n",
       "    </tr>\n",
       "    <tr>\n",
       "      <th>3</th>\n",
       "      <td>L&amp;T</td>\n",
       "      <td>45</td>\n",
       "      <td>222</td>\n",
       "      <td>India</td>\n",
       "    </tr>\n",
       "  </tbody>\n",
       "</table>\n",
       "</div>"
      ],
      "text/plain": [
       "  CompanyName  NoofBranch  Companyid HeadQuater\n",
       "0         Tcs         120        220        USA\n",
       "1     Infosys         110        230   Newjersy\n",
       "2      Oracle          55        255         UK\n",
       "3         L&T          45        222      India"
      ]
     },
     "execution_count": 14,
     "metadata": {},
     "output_type": "execute_result"
    }
   ],
   "source": [
    "dataf1"
   ]
  },
  {
   "cell_type": "code",
   "execution_count": 15,
   "id": "f9006c87",
   "metadata": {},
   "outputs": [
    {
     "data": {
      "text/html": [
       "<div>\n",
       "<style scoped>\n",
       "    .dataframe tbody tr th:only-of-type {\n",
       "        vertical-align: middle;\n",
       "    }\n",
       "\n",
       "    .dataframe tbody tr th {\n",
       "        vertical-align: top;\n",
       "    }\n",
       "\n",
       "    .dataframe thead th {\n",
       "        text-align: right;\n",
       "    }\n",
       "</style>\n",
       "<table border=\"1\" class=\"dataframe\">\n",
       "  <thead>\n",
       "    <tr style=\"text-align: right;\">\n",
       "      <th></th>\n",
       "      <th>CompanyName</th>\n",
       "      <th>NoofBranch</th>\n",
       "      <th>Companyid</th>\n",
       "      <th>HeadQuater</th>\n",
       "    </tr>\n",
       "  </thead>\n",
       "  <tbody>\n",
       "    <tr>\n",
       "      <th>0</th>\n",
       "      <td>Tm</td>\n",
       "      <td>120</td>\n",
       "      <td>221</td>\n",
       "      <td>USA</td>\n",
       "    </tr>\n",
       "    <tr>\n",
       "      <th>1</th>\n",
       "      <td>capgemini</td>\n",
       "      <td>110</td>\n",
       "      <td>231</td>\n",
       "      <td>Newjersy</td>\n",
       "    </tr>\n",
       "    <tr>\n",
       "      <th>2</th>\n",
       "      <td>Ett</td>\n",
       "      <td>55</td>\n",
       "      <td>256</td>\n",
       "      <td>UK</td>\n",
       "    </tr>\n",
       "    <tr>\n",
       "      <th>3</th>\n",
       "      <td>Mindtree</td>\n",
       "      <td>45</td>\n",
       "      <td>289</td>\n",
       "      <td>India</td>\n",
       "    </tr>\n",
       "  </tbody>\n",
       "</table>\n",
       "</div>"
      ],
      "text/plain": [
       "  CompanyName  NoofBranch  Companyid HeadQuater\n",
       "0          Tm         120        221        USA\n",
       "1   capgemini         110        231   Newjersy\n",
       "2         Ett          55        256         UK\n",
       "3    Mindtree          45        289      India"
      ]
     },
     "execution_count": 15,
     "metadata": {},
     "output_type": "execute_result"
    }
   ],
   "source": [
    "dataf2"
   ]
  },
  {
   "cell_type": "code",
   "execution_count": 16,
   "id": "508e843c",
   "metadata": {},
   "outputs": [
    {
     "data": {
      "text/html": [
       "<div>\n",
       "<style scoped>\n",
       "    .dataframe tbody tr th:only-of-type {\n",
       "        vertical-align: middle;\n",
       "    }\n",
       "\n",
       "    .dataframe tbody tr th {\n",
       "        vertical-align: top;\n",
       "    }\n",
       "\n",
       "    .dataframe thead th {\n",
       "        text-align: right;\n",
       "    }\n",
       "</style>\n",
       "<table border=\"1\" class=\"dataframe\">\n",
       "  <thead>\n",
       "    <tr style=\"text-align: right;\">\n",
       "      <th></th>\n",
       "      <th>CompanyName_x</th>\n",
       "      <th>NoofBranch</th>\n",
       "      <th>Companyid_x</th>\n",
       "      <th>HeadQuater_x</th>\n",
       "      <th>CompanyName_y</th>\n",
       "      <th>Companyid_y</th>\n",
       "      <th>HeadQuater_y</th>\n",
       "    </tr>\n",
       "  </thead>\n",
       "  <tbody>\n",
       "    <tr>\n",
       "      <th>0</th>\n",
       "      <td>Tcs</td>\n",
       "      <td>120</td>\n",
       "      <td>220</td>\n",
       "      <td>USA</td>\n",
       "      <td>Tm</td>\n",
       "      <td>221</td>\n",
       "      <td>USA</td>\n",
       "    </tr>\n",
       "    <tr>\n",
       "      <th>1</th>\n",
       "      <td>Infosys</td>\n",
       "      <td>110</td>\n",
       "      <td>230</td>\n",
       "      <td>Newjersy</td>\n",
       "      <td>capgemini</td>\n",
       "      <td>231</td>\n",
       "      <td>Newjersy</td>\n",
       "    </tr>\n",
       "    <tr>\n",
       "      <th>2</th>\n",
       "      <td>Oracle</td>\n",
       "      <td>55</td>\n",
       "      <td>255</td>\n",
       "      <td>UK</td>\n",
       "      <td>Ett</td>\n",
       "      <td>256</td>\n",
       "      <td>UK</td>\n",
       "    </tr>\n",
       "    <tr>\n",
       "      <th>3</th>\n",
       "      <td>L&amp;T</td>\n",
       "      <td>45</td>\n",
       "      <td>222</td>\n",
       "      <td>India</td>\n",
       "      <td>Mindtree</td>\n",
       "      <td>289</td>\n",
       "      <td>India</td>\n",
       "    </tr>\n",
       "  </tbody>\n",
       "</table>\n",
       "</div>"
      ],
      "text/plain": [
       "  CompanyName_x  NoofBranch  Companyid_x HeadQuater_x CompanyName_y  \\\n",
       "0           Tcs         120          220          USA            Tm   \n",
       "1       Infosys         110          230     Newjersy     capgemini   \n",
       "2        Oracle          55          255           UK           Ett   \n",
       "3           L&T          45          222        India      Mindtree   \n",
       "\n",
       "   Companyid_y HeadQuater_y  \n",
       "0          221          USA  \n",
       "1          231     Newjersy  \n",
       "2          256           UK  \n",
       "3          289        India  "
      ]
     },
     "execution_count": 16,
     "metadata": {},
     "output_type": "execute_result"
    }
   ],
   "source": [
    "#merging with any one of the column key\n",
    "pd.merge(dataf1,dataf2, on='NoofBranch')"
   ]
  },
  {
   "cell_type": "code",
   "execution_count": 18,
   "id": "cefcdc9e",
   "metadata": {},
   "outputs": [
    {
     "data": {
      "text/html": [
       "<div>\n",
       "<style scoped>\n",
       "    .dataframe tbody tr th:only-of-type {\n",
       "        vertical-align: middle;\n",
       "    }\n",
       "\n",
       "    .dataframe tbody tr th {\n",
       "        vertical-align: top;\n",
       "    }\n",
       "\n",
       "    .dataframe thead th {\n",
       "        text-align: right;\n",
       "    }\n",
       "</style>\n",
       "<table border=\"1\" class=\"dataframe\">\n",
       "  <thead>\n",
       "    <tr style=\"text-align: right;\">\n",
       "      <th></th>\n",
       "      <th>CompanyName</th>\n",
       "      <th>NoofBranch</th>\n",
       "      <th>Companyid</th>\n",
       "      <th>HeadQuater</th>\n",
       "      <th>CompanyName</th>\n",
       "      <th>NoofBranch</th>\n",
       "      <th>Companyid</th>\n",
       "      <th>HeadQuater</th>\n",
       "    </tr>\n",
       "  </thead>\n",
       "  <tbody>\n",
       "    <tr>\n",
       "      <th>0</th>\n",
       "      <td>Tcs</td>\n",
       "      <td>120</td>\n",
       "      <td>220</td>\n",
       "      <td>USA</td>\n",
       "      <td>Tm</td>\n",
       "      <td>120</td>\n",
       "      <td>221</td>\n",
       "      <td>USA</td>\n",
       "    </tr>\n",
       "    <tr>\n",
       "      <th>1</th>\n",
       "      <td>Infosys</td>\n",
       "      <td>110</td>\n",
       "      <td>230</td>\n",
       "      <td>Newjersy</td>\n",
       "      <td>capgemini</td>\n",
       "      <td>110</td>\n",
       "      <td>231</td>\n",
       "      <td>Newjersy</td>\n",
       "    </tr>\n",
       "    <tr>\n",
       "      <th>2</th>\n",
       "      <td>Oracle</td>\n",
       "      <td>55</td>\n",
       "      <td>255</td>\n",
       "      <td>UK</td>\n",
       "      <td>Ett</td>\n",
       "      <td>55</td>\n",
       "      <td>256</td>\n",
       "      <td>UK</td>\n",
       "    </tr>\n",
       "    <tr>\n",
       "      <th>3</th>\n",
       "      <td>L&amp;T</td>\n",
       "      <td>45</td>\n",
       "      <td>222</td>\n",
       "      <td>India</td>\n",
       "      <td>Mindtree</td>\n",
       "      <td>45</td>\n",
       "      <td>289</td>\n",
       "      <td>India</td>\n",
       "    </tr>\n",
       "  </tbody>\n",
       "</table>\n",
       "</div>"
      ],
      "text/plain": [
       "  CompanyName  NoofBranch  Companyid HeadQuater CompanyName  NoofBranch  \\\n",
       "0         Tcs         120        220        USA          Tm         120   \n",
       "1     Infosys         110        230   Newjersy   capgemini         110   \n",
       "2      Oracle          55        255         UK         Ett          55   \n",
       "3         L&T          45        222      India    Mindtree          45   \n",
       "\n",
       "   Companyid HeadQuater  \n",
       "0        221        USA  \n",
       "1        231   Newjersy  \n",
       "2        256         UK  \n",
       "3        289      India  "
      ]
     },
     "execution_count": 18,
     "metadata": {},
     "output_type": "execute_result"
    }
   ],
   "source": [
    "#Concat example\n",
    "pd.concat([dataf1,dataf2], axis=1)"
   ]
  },
  {
   "cell_type": "code",
   "execution_count": 23,
   "id": "efc5e87b",
   "metadata": {},
   "outputs": [],
   "source": [
    " #join example\n",
    "    \n",
    "left=pd.DataFrame({'ColA':[1,2,3,4],\n",
    "                    'ColB':[5,6,7,8]})\n",
    "right=pd.DataFrame({'ColC':[9,10,11,12],\n",
    "                    'ColD':[15,16,17,8]})\n"
   ]
  },
  {
   "cell_type": "code",
   "execution_count": 24,
   "id": "a34284e5",
   "metadata": {},
   "outputs": [
    {
     "data": {
      "text/html": [
       "<div>\n",
       "<style scoped>\n",
       "    .dataframe tbody tr th:only-of-type {\n",
       "        vertical-align: middle;\n",
       "    }\n",
       "\n",
       "    .dataframe tbody tr th {\n",
       "        vertical-align: top;\n",
       "    }\n",
       "\n",
       "    .dataframe thead th {\n",
       "        text-align: right;\n",
       "    }\n",
       "</style>\n",
       "<table border=\"1\" class=\"dataframe\">\n",
       "  <thead>\n",
       "    <tr style=\"text-align: right;\">\n",
       "      <th></th>\n",
       "      <th>ColA</th>\n",
       "      <th>ColB</th>\n",
       "    </tr>\n",
       "  </thead>\n",
       "  <tbody>\n",
       "    <tr>\n",
       "      <th>0</th>\n",
       "      <td>1</td>\n",
       "      <td>5</td>\n",
       "    </tr>\n",
       "    <tr>\n",
       "      <th>1</th>\n",
       "      <td>2</td>\n",
       "      <td>6</td>\n",
       "    </tr>\n",
       "    <tr>\n",
       "      <th>2</th>\n",
       "      <td>3</td>\n",
       "      <td>7</td>\n",
       "    </tr>\n",
       "    <tr>\n",
       "      <th>3</th>\n",
       "      <td>4</td>\n",
       "      <td>8</td>\n",
       "    </tr>\n",
       "  </tbody>\n",
       "</table>\n",
       "</div>"
      ],
      "text/plain": [
       "   ColA  ColB\n",
       "0     1     5\n",
       "1     2     6\n",
       "2     3     7\n",
       "3     4     8"
      ]
     },
     "execution_count": 24,
     "metadata": {},
     "output_type": "execute_result"
    }
   ],
   "source": [
    "left"
   ]
  },
  {
   "cell_type": "code",
   "execution_count": 25,
   "id": "52e2a0da",
   "metadata": {},
   "outputs": [
    {
     "data": {
      "text/html": [
       "<div>\n",
       "<style scoped>\n",
       "    .dataframe tbody tr th:only-of-type {\n",
       "        vertical-align: middle;\n",
       "    }\n",
       "\n",
       "    .dataframe tbody tr th {\n",
       "        vertical-align: top;\n",
       "    }\n",
       "\n",
       "    .dataframe thead th {\n",
       "        text-align: right;\n",
       "    }\n",
       "</style>\n",
       "<table border=\"1\" class=\"dataframe\">\n",
       "  <thead>\n",
       "    <tr style=\"text-align: right;\">\n",
       "      <th></th>\n",
       "      <th>ColC</th>\n",
       "      <th>ColD</th>\n",
       "    </tr>\n",
       "  </thead>\n",
       "  <tbody>\n",
       "    <tr>\n",
       "      <th>0</th>\n",
       "      <td>9</td>\n",
       "      <td>15</td>\n",
       "    </tr>\n",
       "    <tr>\n",
       "      <th>1</th>\n",
       "      <td>10</td>\n",
       "      <td>16</td>\n",
       "    </tr>\n",
       "    <tr>\n",
       "      <th>2</th>\n",
       "      <td>11</td>\n",
       "      <td>17</td>\n",
       "    </tr>\n",
       "    <tr>\n",
       "      <th>3</th>\n",
       "      <td>12</td>\n",
       "      <td>8</td>\n",
       "    </tr>\n",
       "  </tbody>\n",
       "</table>\n",
       "</div>"
      ],
      "text/plain": [
       "   ColC  ColD\n",
       "0     9    15\n",
       "1    10    16\n",
       "2    11    17\n",
       "3    12     8"
      ]
     },
     "execution_count": 25,
     "metadata": {},
     "output_type": "execute_result"
    }
   ],
   "source": [
    "right"
   ]
  },
  {
   "cell_type": "code",
   "execution_count": 26,
   "id": "7e0bda8b",
   "metadata": {},
   "outputs": [],
   "source": [
    "res=left.join(right)   #join "
   ]
  },
  {
   "cell_type": "code",
   "execution_count": 27,
   "id": "a6a8dea7",
   "metadata": {},
   "outputs": [
    {
     "data": {
      "text/html": [
       "<div>\n",
       "<style scoped>\n",
       "    .dataframe tbody tr th:only-of-type {\n",
       "        vertical-align: middle;\n",
       "    }\n",
       "\n",
       "    .dataframe tbody tr th {\n",
       "        vertical-align: top;\n",
       "    }\n",
       "\n",
       "    .dataframe thead th {\n",
       "        text-align: right;\n",
       "    }\n",
       "</style>\n",
       "<table border=\"1\" class=\"dataframe\">\n",
       "  <thead>\n",
       "    <tr style=\"text-align: right;\">\n",
       "      <th></th>\n",
       "      <th>ColA</th>\n",
       "      <th>ColB</th>\n",
       "      <th>ColC</th>\n",
       "      <th>ColD</th>\n",
       "    </tr>\n",
       "  </thead>\n",
       "  <tbody>\n",
       "    <tr>\n",
       "      <th>0</th>\n",
       "      <td>1</td>\n",
       "      <td>5</td>\n",
       "      <td>9</td>\n",
       "      <td>15</td>\n",
       "    </tr>\n",
       "    <tr>\n",
       "      <th>1</th>\n",
       "      <td>2</td>\n",
       "      <td>6</td>\n",
       "      <td>10</td>\n",
       "      <td>16</td>\n",
       "    </tr>\n",
       "    <tr>\n",
       "      <th>2</th>\n",
       "      <td>3</td>\n",
       "      <td>7</td>\n",
       "      <td>11</td>\n",
       "      <td>17</td>\n",
       "    </tr>\n",
       "    <tr>\n",
       "      <th>3</th>\n",
       "      <td>4</td>\n",
       "      <td>8</td>\n",
       "      <td>12</td>\n",
       "      <td>8</td>\n",
       "    </tr>\n",
       "  </tbody>\n",
       "</table>\n",
       "</div>"
      ],
      "text/plain": [
       "   ColA  ColB  ColC  ColD\n",
       "0     1     5     9    15\n",
       "1     2     6    10    16\n",
       "2     3     7    11    17\n",
       "3     4     8    12     8"
      ]
     },
     "execution_count": 27,
     "metadata": {},
     "output_type": "execute_result"
    }
   ],
   "source": [
    "res"
   ]
  },
  {
   "cell_type": "markdown",
   "id": "8d3778c8",
   "metadata": {},
   "source": [
    "## 5.\tWhat is the difference between list and tuples in Python?"
   ]
  },
  {
   "cell_type": "markdown",
   "id": "afe170b6",
   "metadata": {},
   "source": [
    "1. List and tuple both are used to store collection of data.\n",
    "2. Both are sequential datatype\n",
    "3. Major difference is that tuples are immutable where list are mutable. Values in the list can be modified \n",
    "4. A List is an ordered collection of items that is separated by comma and enclosed in square brackets, it takes same or different datatypes.\n",
    "5. Tuple is similar to list but only difference is that comma separated items of same or different type are enclosed in parentheses. It start with Zero index as list and string"
   ]
  },
  {
   "cell_type": "code",
   "execution_count": 28,
   "id": "dd127b93",
   "metadata": {},
   "outputs": [
    {
     "data": {
      "text/plain": [
       "[10, 20, 30, 40, 'IndividualMark']"
      ]
     },
     "execution_count": 28,
     "metadata": {},
     "output_type": "execute_result"
    }
   ],
   "source": [
    "#Example for list\n",
    "List1=[10,20,30,40,\"IndividualMark\"]\n",
    "List1"
   ]
  },
  {
   "cell_type": "code",
   "execution_count": 30,
   "id": "cbc50e44",
   "metadata": {},
   "outputs": [
    {
     "data": {
      "text/plain": [
       "(52, 25, 28, 88, 'Score')"
      ]
     },
     "execution_count": 30,
     "metadata": {},
     "output_type": "execute_result"
    }
   ],
   "source": [
    "#example for tuple \n",
    "t1=(52,25,28,88,\"Score\")\n",
    "t1"
   ]
  },
  {
   "cell_type": "code",
   "execution_count": 32,
   "id": "0c4fa52c",
   "metadata": {},
   "outputs": [
    {
     "data": {
      "text/plain": [
       "[10, 70, 30, 40, 'IndividualMark']"
      ]
     },
     "execution_count": 32,
     "metadata": {},
     "output_type": "execute_result"
    }
   ],
   "source": [
    "#trying to change list and tuple vlue \n",
    "List1[1]=70\n",
    "List1"
   ]
  },
  {
   "cell_type": "code",
   "execution_count": 33,
   "id": "b9ad4523",
   "metadata": {},
   "outputs": [
    {
     "ename": "TypeError",
     "evalue": "'tuple' object does not support item assignment",
     "output_type": "error",
     "traceback": [
      "\u001b[1;31m---------------------------------------------------------------------------\u001b[0m",
      "\u001b[1;31mTypeError\u001b[0m                                 Traceback (most recent call last)",
      "\u001b[1;32m~\\AppData\\Local\\Temp/ipykernel_8108/1683983854.py\u001b[0m in \u001b[0;36m<module>\u001b[1;34m\u001b[0m\n\u001b[1;32m----> 1\u001b[1;33m \u001b[0mt1\u001b[0m\u001b[1;33m[\u001b[0m\u001b[1;36m1\u001b[0m\u001b[1;33m]\u001b[0m\u001b[1;33m=\u001b[0m\u001b[1;36m70\u001b[0m\u001b[1;33m\u001b[0m\u001b[1;33m\u001b[0m\u001b[0m\n\u001b[0m\u001b[0;32m      2\u001b[0m \u001b[0mt1\u001b[0m\u001b[1;33m\u001b[0m\u001b[1;33m\u001b[0m\u001b[0m\n",
      "\u001b[1;31mTypeError\u001b[0m: 'tuple' object does not support item assignment"
     ]
    }
   ],
   "source": [
    "t1[1]=70\n",
    "t1"
   ]
  },
  {
   "cell_type": "code",
   "execution_count": null,
   "id": "7acdfdf7",
   "metadata": {},
   "outputs": [],
   "source": [
    "#Hence cannot change tuple value after instantiated."
   ]
  },
  {
   "cell_type": "markdown",
   "id": "c9c01c53",
   "metadata": {},
   "source": [
    "## 6.\tFind out the mean, median and standard deviation of this numpy array -> np.array([1,5,3,100,4,48])"
   ]
  },
  {
   "cell_type": "code",
   "execution_count": 34,
   "id": "df53f3cd",
   "metadata": {},
   "outputs": [
    {
     "data": {
      "text/plain": [
       "array([  1,   5,   3, 100,   4,  48])"
      ]
     },
     "execution_count": 34,
     "metadata": {},
     "output_type": "execute_result"
    }
   ],
   "source": [
    "arr1=np.array([1,5,3,100,4,48])\n",
    "arr1"
   ]
  },
  {
   "cell_type": "code",
   "execution_count": 35,
   "id": "a57c4eb4",
   "metadata": {},
   "outputs": [
    {
     "name": "stdout",
     "output_type": "stream",
     "text": [
      "26.833333333333332\n",
      "4.5\n",
      "36.59424666377065\n"
     ]
    }
   ],
   "source": [
    "#mean median and std \n",
    "print(np.mean(arr1,axis=0))\n",
    "print(np.median(arr1,axis=0))\n",
    "print(np.std(arr1,axis=0))"
   ]
  },
  {
   "cell_type": "markdown",
   "id": "7841b6df",
   "metadata": {},
   "source": [
    "## 7.\tHow will you remove duplicate elements from a list?\n"
   ]
  },
  {
   "cell_type": "code",
   "execution_count": 36,
   "id": "7522d4c8",
   "metadata": {},
   "outputs": [
    {
     "data": {
      "text/plain": [
       "[10, 20, 30, 40, 10, 100, 50, 20]"
      ]
     },
     "execution_count": 36,
     "metadata": {},
     "output_type": "execute_result"
    }
   ],
   "source": [
    "#creating a list with duplicate ele \n",
    "li=[10,20,30,40,10,100,50,20]\n",
    "li"
   ]
  },
  {
   "cell_type": "code",
   "execution_count": 38,
   "id": "e673bd93",
   "metadata": {},
   "outputs": [
    {
     "data": {
      "text/plain": [
       "[10, 20, 30, 40, 100, 50]"
      ]
     },
     "execution_count": 38,
     "metadata": {},
     "output_type": "execute_result"
    }
   ],
   "source": [
    "#Method 1 using unique function\n",
    "finallist = pd.unique(li).tolist()\n",
    "finallist"
   ]
  },
  {
   "cell_type": "code",
   "execution_count": 39,
   "id": "e99e9aa7",
   "metadata": {},
   "outputs": [
    {
     "data": {
      "text/plain": [
       "[10, 20, 30, 40, 100, 50]"
      ]
     },
     "execution_count": 39,
     "metadata": {},
     "output_type": "execute_result"
    }
   ],
   "source": [
    "#method2 using enum and list comprehension\n",
    "enumlist = [i for j, i in enumerate(li) if i not in li[:j]] \n",
    "enumlist"
   ]
  },
  {
   "cell_type": "markdown",
   "id": "8a8c3147",
   "metadata": {},
   "source": [
    "## 8.\tWhat is a map() function in Python? Give an example"
   ]
  },
  {
   "cell_type": "markdown",
   "id": "3fefeeaf",
   "metadata": {},
   "source": [
    "map() is used to execute the specified function each time using an iteator \n",
    "syntax: map(funct,para_value)"
   ]
  },
  {
   "cell_type": "code",
   "execution_count": 41,
   "id": "982673bc",
   "metadata": {},
   "outputs": [
    {
     "name": "stdout",
     "output_type": "stream",
     "text": [
      "['110', '220', '330']\n"
     ]
    }
   ],
   "source": [
    "#example \n",
    "def myfunc(a, b):\n",
    "    return a + b\n",
    "\n",
    "mapvar= map(myfunc, ('1', '2', '3'), ('10', '20', '30'))\n",
    "mapvar\n",
    "print(list(mapvar))"
   ]
  },
  {
   "cell_type": "markdown",
   "id": "be370874",
   "metadata": {},
   "source": [
    "## 9.\tWhat is pass in Python?"
   ]
  },
  {
   "cell_type": "markdown",
   "id": "894b0235",
   "metadata": {},
   "source": [
    "1. Pass statement is used as a placeholder in the future use \n",
    "2. When empty code is executed in a loop or in code by using pass statement we can avoid getting error \n"
   ]
  },
  {
   "cell_type": "code",
   "execution_count": 42,
   "id": "9ea93ca5",
   "metadata": {},
   "outputs": [
    {
     "ename": "IndentationError",
     "evalue": "expected an indented block (Temp/ipykernel_8108/455609592.py, line 6)",
     "output_type": "error",
     "traceback": [
      "\u001b[1;36m  File \u001b[1;32m\"C:\\Users\\Prasana\\AppData\\Local\\Temp/ipykernel_8108/455609592.py\"\u001b[1;36m, line \u001b[1;32m6\u001b[0m\n\u001b[1;33m    \u001b[0m\n\u001b[1;37m    ^\u001b[0m\n\u001b[1;31mIndentationError\u001b[0m\u001b[1;31m:\u001b[0m expected an indented block\n"
     ]
    }
   ],
   "source": [
    "#example \n",
    "a = 10\n",
    "b = 25\n",
    "\n",
    "if b > a:    #here if is an empty statement if pass is not  used there will be an error \n",
    "  "
   ]
  },
  {
   "cell_type": "code",
   "execution_count": 43,
   "id": "10730624",
   "metadata": {},
   "outputs": [],
   "source": [
    "a = 10\n",
    "b = 25\n",
    "\n",
    "if b > a: #No error using pass. It just passes the cursor to next line of a code\n",
    "    pass"
   ]
  },
  {
   "cell_type": "markdown",
   "id": "011ea9e9",
   "metadata": {},
   "source": [
    "## 10.\tWhat is vstack() in numpy? Give an example"
   ]
  },
  {
   "cell_type": "markdown",
   "id": "af85b124",
   "metadata": {},
   "source": [
    "vstack() is used to stack the sequence of input arrays vertically and  to make the result as a single array.(row wise)"
   ]
  },
  {
   "cell_type": "code",
   "execution_count": 46,
   "id": "e16fb2af",
   "metadata": {},
   "outputs": [],
   "source": [
    "#example\n",
    "a = np.array([1, 2, 3, 4, 5])\n",
    "b = np.array([6, 7, 8, 9, 10])\n"
   ]
  },
  {
   "cell_type": "code",
   "execution_count": 48,
   "id": "9f9c893e",
   "metadata": {},
   "outputs": [
    {
     "data": {
      "text/plain": [
       "(5,)"
      ]
     },
     "execution_count": 48,
     "metadata": {},
     "output_type": "execute_result"
    }
   ],
   "source": [
    "a.shape"
   ]
  },
  {
   "cell_type": "code",
   "execution_count": 49,
   "id": "4dc8fe22",
   "metadata": {},
   "outputs": [
    {
     "data": {
      "text/plain": [
       "(5,)"
      ]
     },
     "execution_count": 49,
     "metadata": {},
     "output_type": "execute_result"
    }
   ],
   "source": [
    "b.shape"
   ]
  },
  {
   "cell_type": "code",
   "execution_count": 51,
   "id": "15cb7b4d",
   "metadata": {},
   "outputs": [
    {
     "data": {
      "text/plain": [
       "array([[ 1,  2,  3,  4,  5],\n",
       "       [ 6,  7,  8,  9, 10]])"
      ]
     },
     "execution_count": 51,
     "metadata": {},
     "output_type": "execute_result"
    }
   ],
   "source": [
    "res=np.vstack((a,b)) #row wise vertically\n",
    "res"
   ]
  },
  {
   "cell_type": "code",
   "execution_count": 52,
   "id": "0c1059be",
   "metadata": {},
   "outputs": [
    {
     "data": {
      "text/plain": [
       "array([ 1,  2,  3,  4,  5,  6,  7,  8,  9, 10])"
      ]
     },
     "execution_count": 52,
     "metadata": {},
     "output_type": "execute_result"
    }
   ],
   "source": [
    "res1=np.hstack((a,b))   #column wise horzontally\n",
    "res1"
   ]
  },
  {
   "cell_type": "code",
   "execution_count": null,
   "id": "323a80d9",
   "metadata": {},
   "outputs": [],
   "source": []
  }
 ],
 "metadata": {
  "kernelspec": {
   "display_name": "Python 3 (ipykernel)",
   "language": "python",
   "name": "python3"
  },
  "language_info": {
   "codemirror_mode": {
    "name": "ipython",
    "version": 3
   },
   "file_extension": ".py",
   "mimetype": "text/x-python",
   "name": "python",
   "nbconvert_exporter": "python",
   "pygments_lexer": "ipython3",
   "version": "3.9.7"
  }
 },
 "nbformat": 4,
 "nbformat_minor": 5
}
