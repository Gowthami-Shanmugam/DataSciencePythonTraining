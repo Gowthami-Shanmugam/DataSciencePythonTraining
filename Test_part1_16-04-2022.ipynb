{
 "cells": [
  {
   "cell_type": "markdown",
   "id": "b928a799",
   "metadata": {},
   "source": [
    "## 1. Write a program (with function) which takes a sequence of numbers and check if all numbers are unique"
   ]
  },
  {
   "cell_type": "code",
   "execution_count": 1,
   "id": "e2e7deaa",
   "metadata": {},
   "outputs": [],
   "source": [
    "import os\n",
    "import pandas as pd\n",
    "import numpy as np"
   ]
  },
  {
   "cell_type": "code",
   "execution_count": 14,
   "id": "3d5e239a",
   "metadata": {},
   "outputs": [
    {
     "name": "stdout",
     "output_type": "stream",
     "text": [
      "The given list :  [11, 222, 32, 44, 51, 56, 23, 21, 222]  has not Contain any duplicate element\n"
     ]
    }
   ],
   "source": [
    "list1 = [11,222,32,44,51,56,23,21,222]\n",
    "\n",
    "def uniqlistcheck(li):\n",
    "    for i in li:\n",
    "        if li.count(i)>1:\n",
    "            return True\n",
    "        return False\n",
    "    \n",
    "if uniqlistcheck(list1):\n",
    "    print(\"The given list : \", list1,\"Contains duplicate element\")\n",
    "    \n",
    "else:\n",
    "    print(\"The given list : \", list1 ,\" has not Contain any duplicate element\")\n",
    "   \n"
   ]
  },
  {
   "cell_type": "markdown",
   "id": "a93f041f",
   "metadata": {},
   "source": [
    "## 2.Python program to find out the average of a set of integers"
   ]
  },
  {
   "cell_type": "code",
   "execution_count": 22,
   "id": "16711ff4",
   "metadata": {},
   "outputs": [
    {
     "name": "stdout",
     "output_type": "stream",
     "text": [
      "5\n",
      "The Sum of given set of integer [5, 4, 3, 2, 1] is: 15\n",
      "The average of given set of integer [5, 4, 3, 2, 1] is: 3.0\n"
     ]
    }
   ],
   "source": [
    "s_num=int(input())\n",
    "num=s_num\n",
    "sum=0\n",
    "a=[]\n",
    "\n",
    "while(num>0):\n",
    "    sum += num\n",
    "    num=num-1\n",
    "    a.append(num+1)\n",
    "print(\"The Sum of given set of integer\", a,\"is:\",sum )\n",
    "print(\"The average of given set of integer\",a,\"is:\" ,sum/s_num )"
   ]
  },
  {
   "cell_type": "markdown",
   "id": "21b4fc44",
   "metadata": {},
   "source": [
    "## 3.Python program to check whether the given integer is a multiple of both 5 and 7"
   ]
  },
  {
   "cell_type": "code",
   "execution_count": 33,
   "id": "85bac91b",
   "metadata": {},
   "outputs": [
    {
     "name": "stdout",
     "output_type": "stream",
     "text": [
      "70\n",
      "Given integer is multiple of both 5 and 7\n"
     ]
    }
   ],
   "source": [
    "user_int=int(input())\n",
    "\n",
    "if (user_int %5==0) and (user_int %7==0):\n",
    "    print(\"Given integer is multiple of both 5 and 7\")\n",
    "elif(user_int %7==0) and (user_int %5!=0):\n",
    "    print(\"Given integer is multiples of 7 only\")\n",
    "else:\n",
    "    print(\"Given integer ismultiples of 5 only\")"
   ]
  },
  {
   "cell_type": "markdown",
   "id": "12ef7fa2",
   "metadata": {},
   "source": [
    "## 4.Python program to display the given integer in reverse manner"
   ]
  },
  {
   "cell_type": "code",
   "execution_count": 40,
   "id": "dfc7018b",
   "metadata": {},
   "outputs": [
    {
     "name": "stdout",
     "output_type": "stream",
     "text": [
      "4563\n",
      "For given integer: 4563 reverse manner is: 3654\n"
     ]
    }
   ],
   "source": [
    "num=int(input())\n",
    "a_num=num\n",
    "rem=0\n",
    "rev=0\n",
    "\n",
    "while(num > 0):\n",
    "    rem = num %10\n",
    "    rev = (rev *10) + rem\n",
    "    num = num //10\n",
    "print(\"For given integer:\",a_num,\"reverse manner is:\",rev)\n",
    "    "
   ]
  },
  {
   "cell_type": "code",
   "execution_count": 42,
   "id": "bb65aa7a",
   "metadata": {},
   "outputs": [
    {
     "name": "stdout",
     "output_type": "stream",
     "text": [
      "4563\n",
      "Reverse manner for the given integer is: 3654\n"
     ]
    }
   ],
   "source": [
    "\n",
    "def revslicing(nu):\n",
    "    return nu[::-1]\n",
    "\n",
    "\n",
    "num=input()\n",
    "\n",
    "print(\"Reverse manner for the given integer is:\",revslicing(num))"
   ]
  },
  {
   "cell_type": "markdown",
   "id": "2b898d4d",
   "metadata": {},
   "source": [
    "## Create an inner function to calculate the addition in the following way"
   ]
  },
  {
   "cell_type": "code",
   "execution_count": 61,
   "id": "2a948de7",
   "metadata": {},
   "outputs": [],
   "source": [
    " sum1=0\n",
    "def outer_fun(aa,bb):\n",
    "    def inner_fun():\n",
    "        sum1=outer_fun.aa+outer_fun.bb\n",
    "        print(outer_fun.aa)\n",
    "        \n",
    "\n",
    "\n",
    "        \n",
    "outer_fun(1,2)\n"
   ]
  },
  {
   "cell_type": "markdown",
   "id": "a06aaa5e",
   "metadata": {},
   "source": [
    "## 6. Python Program to Check Leap Year"
   ]
  },
  {
   "cell_type": "code",
   "execution_count": 62,
   "id": "4ccba9e2",
   "metadata": {},
   "outputs": [
    {
     "name": "stdout",
     "output_type": "stream",
     "text": [
      "2000\n",
      "2000 is a leap year\n"
     ]
    }
   ],
   "source": [
    "year =int(input())\n",
    "if (year % 400 == 0) and (year % 100 == 0):\n",
    "    print(\"{0} is a leap year\".format(year))\n",
    "\n",
    "elif (year % 4 ==0) and (year % 100 != 0):\n",
    "    print(\"{0} is a leap year\".format(year))\n",
    "\n",
    "else:\n",
    "    print(\"{0} is not a leap year\".format(year))"
   ]
  },
  {
   "cell_type": "code",
   "execution_count": null,
   "id": "8fbb58bf",
   "metadata": {},
   "outputs": [],
   "source": []
  }
 ],
 "metadata": {
  "kernelspec": {
   "display_name": "Python 3 (ipykernel)",
   "language": "python",
   "name": "python3"
  },
  "language_info": {
   "codemirror_mode": {
    "name": "ipython",
    "version": 3
   },
   "file_extension": ".py",
   "mimetype": "text/x-python",
   "name": "python",
   "nbconvert_exporter": "python",
   "pygments_lexer": "ipython3",
   "version": "3.9.7"
  }
 },
 "nbformat": 4,
 "nbformat_minor": 5
}
