{
 "cells": [
  {
   "cell_type": "markdown",
   "id": "7d05c8d9",
   "metadata": {},
   "source": [
    "## 1.\tGet the input for 2 variables though “input” function and pass them to a function to return the addition of two variables"
   ]
  },
  {
   "cell_type": "code",
   "execution_count": 10,
   "id": "c6beb41a",
   "metadata": {},
   "outputs": [
    {
     "name": "stdout",
     "output_type": "stream",
     "text": [
      "Enter the val1 :5\n",
      "Enter the val2 :2\n"
     ]
    }
   ],
   "source": [
    "var1=int(input(\"Enter the val1 :\"))\n",
    "var2=int(input(\"Enter the val2 :\"))\n",
    "\n"
   ]
  },
  {
   "cell_type": "code",
   "execution_count": 11,
   "id": "46807a70",
   "metadata": {},
   "outputs": [
    {
     "name": "stdout",
     "output_type": "stream",
     "text": [
      "7\n"
     ]
    }
   ],
   "source": [
    "def addition(v1,v2):\n",
    "    v3=v1+v2\n",
    "    print (v3)\n",
    "    \n",
    "          \n",
    "         \n",
    "\n",
    "addition(var1,var2)"
   ]
  },
  {
   "cell_type": "markdown",
   "id": "6dcf1f52",
   "metadata": {},
   "source": [
    "## 2.\tWhat happens if we try to add an int with str and vice versa. Please print out the error"
   ]
  },
  {
   "cell_type": "code",
   "execution_count": 12,
   "id": "e11c81a5",
   "metadata": {},
   "outputs": [
    {
     "ename": "TypeError",
     "evalue": "can only concatenate str (not \"int\") to str",
     "output_type": "error",
     "traceback": [
      "\u001b[1;31m---------------------------------------------------------------------------\u001b[0m",
      "\u001b[1;31mTypeError\u001b[0m                                 Traceback (most recent call last)",
      "\u001b[1;32m~\\AppData\\Local\\Temp/ipykernel_2220/3029667472.py\u001b[0m in \u001b[0;36m<module>\u001b[1;34m\u001b[0m\n\u001b[0;32m      1\u001b[0m \u001b[0mstrng\u001b[0m\u001b[1;33m=\u001b[0m\u001b[1;34m'Gowthami'\u001b[0m\u001b[1;33m\u001b[0m\u001b[1;33m\u001b[0m\u001b[0m\n\u001b[0;32m      2\u001b[0m \u001b[0mdod\u001b[0m\u001b[1;33m=\u001b[0m\u001b[1;36m23\u001b[0m\u001b[1;33m\u001b[0m\u001b[1;33m\u001b[0m\u001b[0m\n\u001b[1;32m----> 3\u001b[1;33m \u001b[0madd\u001b[0m\u001b[1;33m=\u001b[0m\u001b[0mstrng\u001b[0m\u001b[1;33m+\u001b[0m\u001b[0mdod\u001b[0m\u001b[1;33m\u001b[0m\u001b[1;33m\u001b[0m\u001b[0m\n\u001b[0m",
      "\u001b[1;31mTypeError\u001b[0m: can only concatenate str (not \"int\") to str"
     ]
    }
   ],
   "source": [
    "strng='Gowthami'\n",
    "dod=23\n",
    "add=strng+dod"
   ]
  },
  {
   "cell_type": "code",
   "execution_count": 13,
   "id": "b95186dd",
   "metadata": {},
   "outputs": [
    {
     "ename": "TypeError",
     "evalue": "unsupported operand type(s) for +: 'int' and 'str'",
     "output_type": "error",
     "traceback": [
      "\u001b[1;31m---------------------------------------------------------------------------\u001b[0m",
      "\u001b[1;31mTypeError\u001b[0m                                 Traceback (most recent call last)",
      "\u001b[1;32m~\\AppData\\Local\\Temp/ipykernel_2220/759679450.py\u001b[0m in \u001b[0;36m<module>\u001b[1;34m\u001b[0m\n\u001b[1;32m----> 1\u001b[1;33m \u001b[0madd\u001b[0m\u001b[1;33m=\u001b[0m\u001b[0mdod\u001b[0m\u001b[1;33m+\u001b[0m\u001b[0mstrng\u001b[0m\u001b[1;33m\u001b[0m\u001b[1;33m\u001b[0m\u001b[0m\n\u001b[0m",
      "\u001b[1;31mTypeError\u001b[0m: unsupported operand type(s) for +: 'int' and 'str'"
     ]
    }
   ],
   "source": [
    "add=dod+strng"
   ]
  },
  {
   "cell_type": "markdown",
   "id": "4256541f",
   "metadata": {},
   "source": [
    "## 3.\tCreate a string variable for the word “Data Science” and see if the letter “s” is present in it using membership operators"
   ]
  },
  {
   "cell_type": "code",
   "execution_count": 18,
   "id": "b11d52d1",
   "metadata": {},
   "outputs": [
    {
     "name": "stdout",
     "output_type": "stream",
     "text": [
      "False\n",
      "True\n"
     ]
    }
   ],
   "source": [
    "Strng=\"Data Science\"\n",
    "print('s' in Strng)\n",
    "print('S' in Strng)"
   ]
  },
  {
   "cell_type": "markdown",
   "id": "19020202",
   "metadata": {},
   "source": [
    "## 4.\tWrite a function and pass a number list as an argument to the function. And return True if the first and last number of a given list is same. If numbers are different then return False"
   ]
  },
  {
   "cell_type": "code",
   "execution_count": 52,
   "id": "ec3eb4a9",
   "metadata": {},
   "outputs": [],
   "source": [
    "\n",
    "def returnlist(listcount):\n",
    "    lastva=len(listcount)\n",
    "    print (lastva)\n",
    "    if listcount[0]==listcount[lastva-1]:\n",
    "        print (\"True\")\n",
    "    else:\n",
    "        print (\"False\")\n",
    "        \n"
   ]
  },
  {
   "cell_type": "code",
   "execution_count": 53,
   "id": "2fc1f4ee",
   "metadata": {},
   "outputs": [
    {
     "name": "stdout",
     "output_type": "stream",
     "text": [
      "9\n",
      "True\n"
     ]
    }
   ],
   "source": [
    "li=[10,25,36,2,3,65,23,65,10]\n",
    "returnlist(li)"
   ]
  },
  {
   "cell_type": "markdown",
   "id": "ae0d37d1",
   "metadata": {},
   "source": [
    "## 5.\tIterate the given list of numbers (l1) and print only those numbers which are divisible by 5. (l1 = [10, 20, 33, 46, 55])"
   ]
  },
  {
   "cell_type": "code",
   "execution_count": 54,
   "id": "0036c834",
   "metadata": {},
   "outputs": [
    {
     "name": "stdout",
     "output_type": "stream",
     "text": [
      "10\n",
      "20\n",
      "55\n"
     ]
    }
   ],
   "source": [
    "l1=[10,20,33,46,55]\n",
    "for i in l1:\n",
    "    if i%5==0:\n",
    "        print(i)"
   ]
  },
  {
   "cell_type": "markdown",
   "id": "98b9e48d",
   "metadata": {},
   "source": [
    "## 6.\tWrite a program to create function calculation() "
   ]
  },
  {
   "cell_type": "code",
   "execution_count": 60,
   "id": "ad194444",
   "metadata": {},
   "outputs": [],
   "source": [
    "\n",
    "def prgm_cal():\n",
    "    v1=int(input(\"Enter the val1 : \"))\n",
    "    v2=int(input(\"Enter the val2 : \"))\n",
    "    add=v1+v2\n",
    "    sub=v1-v2\n",
    "    return(add,sub)\n",
    "    \n",
    "    "
   ]
  },
  {
   "cell_type": "code",
   "execution_count": 61,
   "id": "e5bde7a0",
   "metadata": {},
   "outputs": [
    {
     "name": "stdout",
     "output_type": "stream",
     "text": [
      "Enter the val1 : 5\n",
      "Enter the val2 : 3\n",
      "(8, 2)\n"
     ]
    }
   ],
   "source": [
    "print(prgm_cal())"
   ]
  },
  {
   "cell_type": "markdown",
   "id": "a7e779fb",
   "metadata": {},
   "source": [
    "## 7.\tWrite a program to demonstrate the following Syntax error"
   ]
  },
  {
   "cell_type": "code",
   "execution_count": 62,
   "id": "e83a53f0",
   "metadata": {},
   "outputs": [
    {
     "ename": "SyntaxError",
     "evalue": "non-default argument follows default argument (Temp/ipykernel_2220/1757292984.py, line 1)",
     "output_type": "error",
     "traceback": [
      "\u001b[1;36m  File \u001b[1;32m\"C:\\Users\\Prasana\\AppData\\Local\\Temp/ipykernel_2220/1757292984.py\"\u001b[1;36m, line \u001b[1;32m1\u001b[0m\n\u001b[1;33m    def addition(a=7,b):\u001b[0m\n\u001b[1;37m                      ^\u001b[0m\n\u001b[1;31mSyntaxError\u001b[0m\u001b[1;31m:\u001b[0m non-default argument follows default argument\n"
     ]
    }
   ],
   "source": [
    "def addition(a=7,b):\n",
    "    c=a+b\n",
    "    return(c)"
   ]
  },
  {
   "cell_type": "markdown",
   "id": "d95a0559",
   "metadata": {},
   "source": [
    "## 8. Recursion"
   ]
  },
  {
   "cell_type": "markdown",
   "id": "badd8094",
   "metadata": {},
   "source": [
    "Recursion is a function which calls itself. It has the loop through out the data to reach out result\n"
   ]
  },
  {
   "cell_type": "code",
   "execution_count": 1,
   "id": "c5a31cb8",
   "metadata": {},
   "outputs": [],
   "source": [
    "\n",
    "def Sum_recursion(n):\n",
    "    sum=0\n",
    "    for i in range(n):\n",
    "        sum=sum+Sum_recursion(n)\n",
    "        return (sum)\n",
    "    "
   ]
  },
  {
   "cell_type": "code",
   "execution_count": null,
   "id": "13134e70",
   "metadata": {},
   "outputs": [],
   "source": [
    "print(Sum_recursion(5))\n",
    "    \n",
    "    \n",
    "    \n",
    "    "
   ]
  },
  {
   "cell_type": "markdown",
   "id": "fe90e8e2",
   "metadata": {},
   "source": [
    "## 9.\tUse filter and lambda function to calculate square for below numbers only if they are odd number\n",
    "a.\t[12, 11, 53, 22, 21, 77, 87, 88, 98]\n"
   ]
  },
  {
   "cell_type": "code",
   "execution_count": 33,
   "id": "06d04925",
   "metadata": {},
   "outputs": [
    {
     "name": "stdout",
     "output_type": "stream",
     "text": [
      "[11, 53, 21, 77, 87]\n",
      "[121, 2809, 441, 5929, 7569]\n"
     ]
    }
   ],
   "source": [
    "import math\n",
    "li = [12, 11, 53, 22, 21, 77, 87, 88, 98]\n",
    " \n",
    "final_list = list(filter (lambda x: (x%2 != 0) , li))\n",
    "\n",
    "print(final_list)\n",
    "\n",
    "output=list(map(lambda x: x **2 ,final_list ))\n",
    "\n",
    "print(output)\n",
    "\n"
   ]
  },
  {
   "cell_type": "markdown",
   "id": "0e66607f",
   "metadata": {},
   "source": [
    "## Write a function (not a lambda function) and use it to demonstrate an example for map function (any logical function of your choice)"
   ]
  },
  {
   "cell_type": "code",
   "execution_count": null,
   "id": "1c45a537",
   "metadata": {},
   "outputs": [],
   "source": []
  },
  {
   "cell_type": "code",
   "execution_count": 35,
   "id": "43edf96a",
   "metadata": {},
   "outputs": [
    {
     "name": "stdout",
     "output_type": "stream",
     "text": [
      "<map object at 0x0000002ACA42FF70>\n",
      "[5, 6, 5]\n"
     ]
    }
   ],
   "source": [
    "def myfunction(para):\n",
    "    return len(para)\n",
    "\n",
    "strg=map(myfunction,('Apple','Carrot','Lemon'))\n",
    "print(strg)\n",
    "print(list(strg))"
   ]
  },
  {
   "cell_type": "code",
   "execution_count": null,
   "id": "e1ce1c75",
   "metadata": {},
   "outputs": [],
   "source": []
  },
  {
   "cell_type": "code",
   "execution_count": null,
   "id": "e1c5a8dc",
   "metadata": {},
   "outputs": [],
   "source": []
  }
 ],
 "metadata": {
  "kernelspec": {
   "display_name": "Python 3 (ipykernel)",
   "language": "python",
   "name": "python3"
  },
  "language_info": {
   "codemirror_mode": {
    "name": "ipython",
    "version": 3
   },
   "file_extension": ".py",
   "mimetype": "text/x-python",
   "name": "python",
   "nbconvert_exporter": "python",
   "pygments_lexer": "ipython3",
   "version": "3.9.7"
  }
 },
 "nbformat": 4,
 "nbformat_minor": 5
}
